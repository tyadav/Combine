{
 "cells": [
  {
   "cell_type": "code",
   "execution_count": 74,
   "metadata": {},
   "outputs": [],
   "source": [
    "import pandas as pd\n",
    "import sys \n",
    "import numpy as np"
   ]
  },
  {
   "cell_type": "code",
   "execution_count": 102,
   "metadata": {},
   "outputs": [],
   "source": [
    "df = pd.read_csv(\"C:\\\\Users\\\\TejYadav\\\\Desktop\\\\NPGO_WCC\\\\EMSD Input\\\\Merged_Data_WCC2_Fil2.csv\")"
   ]
  },
  {
   "cell_type": "code",
   "execution_count": 103,
   "metadata": {},
   "outputs": [
    {
     "data": {
      "text/html": [
       "<div>\n",
       "<style scoped>\n",
       "    .dataframe tbody tr th:only-of-type {\n",
       "        vertical-align: middle;\n",
       "    }\n",
       "\n",
       "    .dataframe tbody tr th {\n",
       "        vertical-align: top;\n",
       "    }\n",
       "\n",
       "    .dataframe thead th {\n",
       "        text-align: right;\n",
       "    }\n",
       "</style>\n",
       "<table border=\"1\" class=\"dataframe\">\n",
       "  <thead>\n",
       "    <tr style=\"text-align: right;\">\n",
       "      <th></th>\n",
       "      <th>Date</th>\n",
       "      <th>CW_water_flow_rate</th>\n",
       "      <th>east_water_flow_rate</th>\n",
       "      <th>chiller_inlet_temp_2</th>\n",
       "      <th>chiller_outlet_temp_2</th>\n",
       "      <th>condenser_inlet_temp_2</th>\n",
       "      <th>condenser_outlet_temp_2</th>\n",
       "      <th>WCC2_supply_temp</th>\n",
       "    </tr>\n",
       "  </thead>\n",
       "  <tbody>\n",
       "    <tr>\n",
       "      <th>20320</th>\n",
       "      <td>2019-05-15T083600.0000</td>\n",
       "      <td>154.3</td>\n",
       "      <td>98.300000</td>\n",
       "      <td>11.6</td>\n",
       "      <td>11.7</td>\n",
       "      <td>27.3</td>\n",
       "      <td>27.2</td>\n",
       "      <td>11.9</td>\n",
       "    </tr>\n",
       "    <tr>\n",
       "      <th>20321</th>\n",
       "      <td>2019-05-15T083700.0000</td>\n",
       "      <td>157.7</td>\n",
       "      <td>41.801045</td>\n",
       "      <td>11.6</td>\n",
       "      <td>11.7</td>\n",
       "      <td>27.3</td>\n",
       "      <td>27.2</td>\n",
       "      <td>11.9</td>\n",
       "    </tr>\n",
       "    <tr>\n",
       "      <th>20322</th>\n",
       "      <td>2019-05-15T083800.0000</td>\n",
       "      <td>157.6</td>\n",
       "      <td>41.801045</td>\n",
       "      <td>11.6</td>\n",
       "      <td>11.7</td>\n",
       "      <td>27.4</td>\n",
       "      <td>27.2</td>\n",
       "      <td>11.9</td>\n",
       "    </tr>\n",
       "    <tr>\n",
       "      <th>20323</th>\n",
       "      <td>2019-05-15T083900.0000</td>\n",
       "      <td>150.0</td>\n",
       "      <td>41.801045</td>\n",
       "      <td>11.6</td>\n",
       "      <td>11.7</td>\n",
       "      <td>27.6</td>\n",
       "      <td>27.2</td>\n",
       "      <td>11.9</td>\n",
       "    </tr>\n",
       "    <tr>\n",
       "      <th>20324</th>\n",
       "      <td>2019-05-15T084000.0000</td>\n",
       "      <td>147.8</td>\n",
       "      <td>41.801045</td>\n",
       "      <td>11.6</td>\n",
       "      <td>11.7</td>\n",
       "      <td>27.6</td>\n",
       "      <td>27.2</td>\n",
       "      <td>11.9</td>\n",
       "    </tr>\n",
       "  </tbody>\n",
       "</table>\n",
       "</div>"
      ],
      "text/plain": [
       "                         Date  CW_water_flow_rate  east_water_flow_rate  \\\n",
       "20320  2019-05-15T083600.0000               154.3             98.300000   \n",
       "20321  2019-05-15T083700.0000               157.7             41.801045   \n",
       "20322  2019-05-15T083800.0000               157.6             41.801045   \n",
       "20323  2019-05-15T083900.0000               150.0             41.801045   \n",
       "20324  2019-05-15T084000.0000               147.8             41.801045   \n",
       "\n",
       "       chiller_inlet_temp_2  chiller_outlet_temp_2  condenser_inlet_temp_2  \\\n",
       "20320                  11.6                   11.7                    27.3   \n",
       "20321                  11.6                   11.7                    27.3   \n",
       "20322                  11.6                   11.7                    27.4   \n",
       "20323                  11.6                   11.7                    27.6   \n",
       "20324                  11.6                   11.7                    27.6   \n",
       "\n",
       "       condenser_outlet_temp_2  WCC2_supply_temp  \n",
       "20320                     27.2              11.9  \n",
       "20321                     27.2              11.9  \n",
       "20322                     27.2              11.9  \n",
       "20323                     27.2              11.9  \n",
       "20324                     27.2              11.9  "
      ]
     },
     "execution_count": 103,
     "metadata": {},
     "output_type": "execute_result"
    }
   ],
   "source": [
    "df.tail()"
   ]
  },
  {
   "cell_type": "code",
   "execution_count": 104,
   "metadata": {},
   "outputs": [
    {
     "data": {
      "text/plain": [
       "(20325, 8)"
      ]
     },
     "execution_count": 104,
     "metadata": {},
     "output_type": "execute_result"
    }
   ],
   "source": [
    "df.shape"
   ]
  },
  {
   "cell_type": "code",
   "execution_count": 124,
   "metadata": {},
   "outputs": [],
   "source": [
    "# filter 2 months data\n",
    "t_df = df[(df['Date']>'2019-05-12T081100.0000')]"
   ]
  },
  {
   "cell_type": "code",
   "execution_count": 125,
   "metadata": {},
   "outputs": [
    {
     "data": {
      "text/html": [
       "<div>\n",
       "<style scoped>\n",
       "    .dataframe tbody tr th:only-of-type {\n",
       "        vertical-align: middle;\n",
       "    }\n",
       "\n",
       "    .dataframe tbody tr th {\n",
       "        vertical-align: top;\n",
       "    }\n",
       "\n",
       "    .dataframe thead th {\n",
       "        text-align: right;\n",
       "    }\n",
       "</style>\n",
       "<table border=\"1\" class=\"dataframe\">\n",
       "  <thead>\n",
       "    <tr style=\"text-align: right;\">\n",
       "      <th></th>\n",
       "      <th>Date</th>\n",
       "      <th>CW_water_flow_rate</th>\n",
       "      <th>east_water_flow_rate</th>\n",
       "      <th>chiller_inlet_temp_2</th>\n",
       "      <th>chiller_outlet_temp_2</th>\n",
       "      <th>condenser_inlet_temp_2</th>\n",
       "      <th>condenser_outlet_temp_2</th>\n",
       "      <th>WCC2_supply_temp</th>\n",
       "    </tr>\n",
       "  </thead>\n",
       "  <tbody>\n",
       "    <tr>\n",
       "      <th>15976</th>\n",
       "      <td>2019-05-12T081200.0000</td>\n",
       "      <td>0.4</td>\n",
       "      <td>29.6</td>\n",
       "      <td>10.9</td>\n",
       "      <td>11.2</td>\n",
       "      <td>24.9</td>\n",
       "      <td>24.4</td>\n",
       "      <td>11.7</td>\n",
       "    </tr>\n",
       "    <tr>\n",
       "      <th>15977</th>\n",
       "      <td>2019-05-12T081300.0000</td>\n",
       "      <td>0.4</td>\n",
       "      <td>32.3</td>\n",
       "      <td>10.9</td>\n",
       "      <td>11.2</td>\n",
       "      <td>24.9</td>\n",
       "      <td>24.4</td>\n",
       "      <td>11.7</td>\n",
       "    </tr>\n",
       "    <tr>\n",
       "      <th>15978</th>\n",
       "      <td>2019-05-12T081400.0000</td>\n",
       "      <td>0.2</td>\n",
       "      <td>31.6</td>\n",
       "      <td>10.9</td>\n",
       "      <td>11.2</td>\n",
       "      <td>24.9</td>\n",
       "      <td>24.4</td>\n",
       "      <td>11.7</td>\n",
       "    </tr>\n",
       "    <tr>\n",
       "      <th>15979</th>\n",
       "      <td>2019-05-12T081500.0000</td>\n",
       "      <td>0.4</td>\n",
       "      <td>30.0</td>\n",
       "      <td>10.9</td>\n",
       "      <td>11.2</td>\n",
       "      <td>24.9</td>\n",
       "      <td>24.4</td>\n",
       "      <td>11.7</td>\n",
       "    </tr>\n",
       "    <tr>\n",
       "      <th>15980</th>\n",
       "      <td>2019-05-12T081600.0000</td>\n",
       "      <td>0.4</td>\n",
       "      <td>32.2</td>\n",
       "      <td>10.9</td>\n",
       "      <td>11.2</td>\n",
       "      <td>24.9</td>\n",
       "      <td>24.4</td>\n",
       "      <td>11.7</td>\n",
       "    </tr>\n",
       "  </tbody>\n",
       "</table>\n",
       "</div>"
      ],
      "text/plain": [
       "                         Date  CW_water_flow_rate  east_water_flow_rate  \\\n",
       "15976  2019-05-12T081200.0000                 0.4                  29.6   \n",
       "15977  2019-05-12T081300.0000                 0.4                  32.3   \n",
       "15978  2019-05-12T081400.0000                 0.2                  31.6   \n",
       "15979  2019-05-12T081500.0000                 0.4                  30.0   \n",
       "15980  2019-05-12T081600.0000                 0.4                  32.2   \n",
       "\n",
       "       chiller_inlet_temp_2  chiller_outlet_temp_2  condenser_inlet_temp_2  \\\n",
       "15976                  10.9                   11.2                    24.9   \n",
       "15977                  10.9                   11.2                    24.9   \n",
       "15978                  10.9                   11.2                    24.9   \n",
       "15979                  10.9                   11.2                    24.9   \n",
       "15980                  10.9                   11.2                    24.9   \n",
       "\n",
       "       condenser_outlet_temp_2  WCC2_supply_temp  \n",
       "15976                     24.4              11.7  \n",
       "15977                     24.4              11.7  \n",
       "15978                     24.4              11.7  \n",
       "15979                     24.4              11.7  \n",
       "15980                     24.4              11.7  "
      ]
     },
     "execution_count": 125,
     "metadata": {},
     "output_type": "execute_result"
    }
   ],
   "source": [
    "t_df.head()"
   ]
  },
  {
   "cell_type": "code",
   "execution_count": 126,
   "metadata": {},
   "outputs": [
    {
     "data": {
      "text/plain": [
       "(4349, 8)"
      ]
     },
     "execution_count": 126,
     "metadata": {},
     "output_type": "execute_result"
    }
   ],
   "source": [
    "t_df.shape"
   ]
  },
  {
   "cell_type": "code",
   "execution_count": 127,
   "metadata": {},
   "outputs": [],
   "source": [
    "filtered_data_file_name = \"Merged_Data_WCC2_2weeks.csv\"\n",
    "t_df.to_csv(\"C:\\\\Users\\\\TejYadav\\\\Desktop\\\\NPGO_WCC\\\\EMSD Input\\\\\"+filtered_data_file_name,index=False)"
   ]
  },
  {
   "cell_type": "code",
   "execution_count": null,
   "metadata": {},
   "outputs": [],
   "source": []
  },
  {
   "cell_type": "code",
   "execution_count": null,
   "metadata": {},
   "outputs": [],
   "source": []
  }
 ],
 "metadata": {
  "kernelspec": {
   "display_name": "Python 3",
   "language": "python",
   "name": "python3"
  },
  "language_info": {
   "codemirror_mode": {
    "name": "ipython",
    "version": 3
   },
   "file_extension": ".py",
   "mimetype": "text/x-python",
   "name": "python",
   "nbconvert_exporter": "python",
   "pygments_lexer": "ipython3",
   "version": "3.6.8"
  }
 },
 "nbformat": 4,
 "nbformat_minor": 2
}
