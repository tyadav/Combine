{
 "cells": [
  {
   "cell_type": "code",
   "execution_count": 1,
   "metadata": {},
   "outputs": [],
   "source": [
    "# Importing required packages (final_one)\n",
    "import pandas as pd\n",
    "import os \n",
    "import csv\n",
    "from zipfile import ZipFile \n",
    "import re"
   ]
  },
  {
   "cell_type": "code",
   "execution_count": 11,
   "metadata": {},
   "outputs": [],
   "source": [
    "# match :01 to :09\n",
    "time_regex1 = re.compile(r\":0[1-9]$\")\n",
    "# match :21 to :29 and :31 to :39\n",
    "time_regex2 = re.compile(r\":(2|3)[1-9]$\")\n",
    "# match :51 to 59\n",
    "time_regex3 = re.compile(r\":5[1-9]$\")\n",
    "\n",
    "# shift timestamps to :00 or :30\n",
    "def unify_timestamp(timestamp):\n",
    "    timestamp_str = str(timestamp)\n",
    "    # match :51 to :59 and increase minute by 1\n",
    "    if time_regex3.search(timestamp_str):\n",
    "        timestamp_split = timestamp_str.split(':')\n",
    "        minute = str(int(timestamp_split[1]) + 1).zfill(2)\n",
    "        return '{}:{}:00'.format(timestamp_split[0], minute)\n",
    "    # match other regex\n",
    "    return time_regex2.sub(':30', time_regex1.sub(':00', timestamp_str))"
   ]
  },
  {
   "cell_type": "code",
   "execution_count": 12,
   "metadata": {},
   "outputs": [],
   "source": [
    "# Function to get all the paths for a particular file name. Checks all the directories and sub-directories \n",
    "\n",
    "def get_paths(folder_name,file_name):\n",
    "    \n",
    "    folder_path = \"C:/Users/TejYadav/Desktop/V codes/Data Files for Machine Learning/\"+(folder_name)+\"/\" # folder path \n",
    "\n",
    "    all_paths = []\n",
    "    \n",
    "    for r, d, f in os.walk(folder_path):\n",
    "        for file in f:\n",
    "            if (file_name) in file:\n",
    "                all_paths.append(os.path.join(r, file))\n",
    "   \n",
    "    return all_paths"
   ]
  },
  {
   "cell_type": "code",
   "execution_count": 13,
   "metadata": {},
   "outputs": [],
   "source": [
    "# Function to generate new column names in case of multiple files with same attribute - format : filename_attributename\n",
    "\n",
    "def new_columns(fname,cnames):\n",
    "    new_cnames = []\n",
    "    for i in cnames:\n",
    "        new_cnames.append(fname+\"_\"+i)\n",
    "    return new_cnames"
   ]
  },
  {
   "cell_type": "code",
   "execution_count": 14,
   "metadata": {},
   "outputs": [],
   "source": [
    "# To generate the output file for a particular file name present in a folder named folder name and extract attributes defined by \n",
    "# attribute name \n",
    "\n",
    "# output file format - main_dir_path + sheet_dir_path + input_file_name.csv\n",
    "def generate_file(folder_name,file_names,attribute_name):\n",
    "    \n",
    "    dframe_file = pd.DataFrame()\n",
    "    output_dframe = pd.DataFrame()\n",
    "    \n",
    "    attribute_name = attribute_name.decode('utf-8')\n",
    "    attribute_name = attribute_name.strip()\n",
    "    attribute_names = attribute_name.split(\"\\n\")\n",
    "    for i in range(len(attribute_names)):\n",
    "        attribute_names[i] = attribute_names[i].strip()\n",
    "    \n",
    "    for fname in file_names:\n",
    "        \n",
    "        fname = fname.strip() \n",
    "        folder_name = folder_name.strip()                # strip function removes leading and trailing spaces from the string\n",
    "        all_paths_files = get_paths(folder_name,fname)   # get all possible paths for a folder and file name\n",
    "        \n",
    "        if len(file_names)>1:\n",
    "            temp_fname = fname.replace(\".csv\",\"\")\n",
    "            new_attribute_names = new_columns(temp_fname,attribute_names)  # get attributes as file_name_attribute_name for multiple files with same attribute names\n",
    "\n",
    "        for j in range(len(all_paths_files)):  \n",
    "            dframe = pd.read_csv(all_paths_files[j])\n",
    "            dframe['date'] = dframe['date'].apply(unify_timestamp)\n",
    "            dframe.drop(dframe[pd.isnull(dframe.iloc[:, 1])].index, inplace=True)\n",
    "            \n",
    "            if j == 0:\n",
    "                dframe_file = dframe.loc[:,attribute_names]\n",
    "                \n",
    "\n",
    "                if len(file_names)>1:\n",
    "                    dframe_file.columns = new_attribute_names\n",
    "            else:\n",
    "                # append to same data frame for multiple files available with different dates\n",
    "                \n",
    "                temp_df = dframe.loc[:,attribute_names] \n",
    "                \n",
    "                if len(file_names)>1:\n",
    "                    temp_df.columns = new_attribute_names\n",
    "                dframe_file = dframe_file.append(temp_df,ignore_index=True)\n",
    "                \n",
    "        output_dframe = pd.concat([output_dframe,dframe_file],axis=1)\n",
    "        \n",
    "    return output_dframe    "
   ]
  },
  {
   "cell_type": "code",
   "execution_count": 15,
   "metadata": {},
   "outputs": [],
   "source": [
    "# Function that uses other functions to extract all the attributes and stores output data frame corresponding to each sheet \n",
    "# in a list\n",
    "\n",
    "def extract_cols(sheets,output_dataframes_list):\n",
    "    \n",
    "    for sheet_name in sheets:\n",
    "        print(sheet_name)\n",
    "        \n",
    "        dframe_sheet = pd.read_excel(xls,sheetname=sheet_name)\n",
    "        records,cols = (dframe_sheet.shape)\n",
    "\n",
    "        dframe_for_each_sheet = pd.DataFrame()\n",
    "        result_df = pd.DataFrame()\n",
    "\n",
    "        for i in range(0,records):\n",
    "\n",
    "            folder_name = str(dframe_sheet.loc[i,'Folder Name'])\n",
    "            file_name = str(dframe_sheet.loc[i,'File Name'])\n",
    "            file_names = file_name.split(\"\\n\")\n",
    "            attribute_name = (dframe_sheet.loc[i,'Column Name'])\n",
    "            input_name = str(dframe_sheet.loc[i,'Inputs'])\n",
    "           \n",
    "            if isinstance(attribute_name, str) and folder_name != ' ' and folder_name != 'nan' and file_name != ' ' and file_name != 'nan':\n",
    "                byte_attribute_name = bytes(attribute_name,'utf-8')\n",
    "                \n",
    "                result_df = generate_file(folder_name,file_names,byte_attribute_name) # returns for each file name in a sheet\n",
    "\n",
    "                dframe_for_each_sheet = pd.concat([dframe_for_each_sheet,result_df],axis=1) # concat acc to each sheet\n",
    "\n",
    "        final_records,final_cols=(dframe_for_each_sheet.shape)\n",
    "\n",
    "        output_dataframes_list.append(dframe_for_each_sheet)  # appending to output list\n",
    "\n",
    "        print(\"Number of attributes in the sheet : \"+str(final_cols))"
   ]
  },
  {
   "cell_type": "code",
   "execution_count": 16,
   "metadata": {},
   "outputs": [],
   "source": [
    "# To read input xlsx file - input workbook - Extract file.xlsx\n",
    "\n",
    "input_file_path = 'C:/Users/TejYadav/Desktop/V codes/WIP_evaporatorV0.1.xlsx'  # Path to input file \n",
    "xls = pd.ExcelFile(input_file_path)"
   ]
  },
  {
   "cell_type": "code",
   "execution_count": 17,
   "metadata": {},
   "outputs": [
    {
     "name": "stdout",
     "output_type": "stream",
     "text": [
      "['Power IT 0.5 MW, CT 35 C ', 'Power IT 0.65 MW, CT 35 C', 'Power IT 0.65 MW, CT 45 C', 'Power IT 1 MW, CT 35 C', 'Power IT 1 MW, CT 45 C', 'DC Power IT 0.5 MW, Chiller', 'DC Power IT 1 MW, Chiller']\n"
     ]
    }
   ],
   "source": [
    "# Getting names of all the worksheets from input workbook \n",
    "\n",
    "all_sheet_names = xls.sheet_names\n",
    "print(all_sheet_names)"
   ]
  },
  {
   "cell_type": "code",
   "execution_count": 18,
   "metadata": {},
   "outputs": [
    {
     "name": "stdout",
     "output_type": "stream",
     "text": [
      "Power IT 0.5 MW, CT 35 C \n",
      "Number of attributes in the sheet : 12\n",
      "Power IT 0.65 MW, CT 35 C\n",
      "Number of attributes in the sheet : 12\n",
      "Power IT 0.65 MW, CT 45 C\n",
      "Number of attributes in the sheet : 12\n",
      "Power IT 1 MW, CT 35 C\n",
      "Number of attributes in the sheet : 12\n",
      "Power IT 1 MW, CT 45 C\n",
      "Number of attributes in the sheet : 12\n",
      "DC Power IT 0.5 MW, Chiller\n",
      "Number of attributes in the sheet : 12\n",
      "DC Power IT 1 MW, Chiller\n",
      "Number of attributes in the sheet : 12\n"
     ]
    }
   ],
   "source": [
    "# Calling function for considering all the sheets in the input workbook\n",
    "\n",
    "output_dataframes_list = []    # list of data frames according to number of sheets \n",
    "extract_cols(all_sheet_names,output_dataframes_list) "
   ]
  },
  {
   "cell_type": "code",
   "execution_count": 19,
   "metadata": {},
   "outputs": [
    {
     "name": "stdout",
     "output_type": "stream",
     "text": [
      "Writing to output file !\n",
      "File saved successfully !\n"
     ]
    }
   ],
   "source": [
    "# Writing the data corresponding to each sheet in xlsx file named output.xlsx - gets saved on desktop. \n",
    "print(\"Writing to output file !\")\n",
    "from openpyxl import load_workbook\n",
    "\n",
    "output_file_path = 'C:/Users/TejYadav/Desktop/output.xlsx'  # output file path \n",
    "writer = pd.ExcelWriter(output_file_path, engine = 'openpyxl')\n",
    "\n",
    "for i in range(len(all_sheet_names)):\n",
    "    #print(output_dataframes_list[i].columns)\n",
    "    output_dataframes_list[i].to_excel(writer,sheet_name=all_sheet_names[i],encoding='utf-8',index = False)\n",
    "\n",
    "writer.save()\n",
    "writer.close()\n",
    "print(\"File saved successfully !\")"
   ]
  },
  {
   "cell_type": "code",
   "execution_count": null,
   "metadata": {},
   "outputs": [],
   "source": []
  }
 ],
 "metadata": {
  "kernelspec": {
   "display_name": "Python 3",
   "language": "python",
   "name": "python3"
  },
  "language_info": {
   "codemirror_mode": {
    "name": "ipython",
    "version": 3
   },
   "file_extension": ".py",
   "mimetype": "text/x-python",
   "name": "python",
   "nbconvert_exporter": "python",
   "pygments_lexer": "ipython3",
   "version": "3.6.8"
  }
 },
 "nbformat": 4,
 "nbformat_minor": 2
}
